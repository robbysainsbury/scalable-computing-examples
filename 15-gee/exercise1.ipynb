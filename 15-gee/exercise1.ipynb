{
 "cells": [
  {
   "cell_type": "markdown",
   "metadata": {},
   "source": [
    "## Exercise 1: An introductory lesson on using Google Earth Engine"
   ]
  },
  {
   "cell_type": "markdown",
   "metadata": {},
   "source": [
    "*The exercise below follows [**Chapter 15, Exercise 1**](https://learning.nceas.ucsb.edu/2022-09-arctic/sections/15-google-earth-engine.html#exercise-1-an-introductory-lesson-on-using-google-earth-engine) from the book, [Scalable and Computationally Reproducible Approaches to Arctic Research](https://learning.nceas.ucsb.edu/2022-09-arctic/). Code cells are intentially left blank so that participants may code along. Feel free to reference [the book](https://learning.nceas.ucsb.edu/2022-09-arctic/sections/15-google-earth-engine.html#exercise-1-an-introductory-lesson-on-using-google-earth-engine) to check your work against the example code provided.*"
   ]
  },
  {
   "cell_type": "markdown",
   "metadata": {},
   "source": [
    "### **Part i.** Setup"
   ]
  },
  {
   "cell_type": "markdown",
   "metadata": {},
   "source": [
    "1. Create a Google Earth Engine account (if you haven't already done so) -- refer back to the [Preface](https://learning.nceas.ucsb.edu/2022-09-arctic/#create-a-free-google-earth-engine-gee-account) for instructions on how to do so\n",
    "\n",
    "2. Load libraries"
   ]
  },
  {
   "cell_type": "code",
   "execution_count": 1,
   "metadata": {},
   "outputs": [],
   "source": [
    "# import `ee` and `geemap` libraries\n",
    "import ee #earth engine api\n",
    "import geemap #specifically for making maps\n",
    "import pandas as pd"
   ]
  },
  {
   "cell_type": "markdown",
   "metadata": {},
   "source": [
    "3. Authenticate your GEE account\n",
    "\n",
    "- In order to begin using GEE, you’ll need to connect your environment (`scomp`) to the authentication credentials associated with your Google account. This will need to be done each time you connect to GEE, (but only be done once per session)."
   ]
  },
  {
   "cell_type": "code",
   "execution_count": 2,
   "metadata": {},
   "outputs": [
    {
     "data": {
      "text/html": [
       "<p>To authorize access needed by Earth Engine, open the following\n",
       "        URL in a web browser and follow the instructions:</p>\n",
       "        <p><a href=https://code.earthengine.google.com/client-auth?scopes=https%3A//www.googleapis.com/auth/earthengine%20https%3A//www.googleapis.com/auth/devstorage.full_control&request_id=UjRzJ0n0bcXmQX1if-KBqskJX2SNcbXBbwUm0QU3_wM&tc=S2LW2d5Y9zj9j1V9tPvBOf0XBeA0wFmNXPatV-FemOk&cc=-L4h02UZ5TJxZ7vGBjx3Jz49njbIVFvZLqJyP3UBxoU>https://code.earthengine.google.com/client-auth?scopes=https%3A//www.googleapis.com/auth/earthengine%20https%3A//www.googleapis.com/auth/devstorage.full_control&request_id=UjRzJ0n0bcXmQX1if-KBqskJX2SNcbXBbwUm0QU3_wM&tc=S2LW2d5Y9zj9j1V9tPvBOf0XBeA0wFmNXPatV-FemOk&cc=-L4h02UZ5TJxZ7vGBjx3Jz49njbIVFvZLqJyP3UBxoU</a></p>\n",
       "        <p>The authorization workflow will generate a code, which you should paste in the box below.</p>\n",
       "        "
      ],
      "text/plain": [
       "<IPython.core.display.HTML object>"
      ]
     },
     "metadata": {},
     "output_type": "display_data"
    },
    {
     "name": "stdout",
     "output_type": "stream",
     "text": [
      "\n",
      "Successfully saved authorization token.\n"
     ]
    }
   ],
   "source": [
    "# authenticate\n",
    "ee.Authenticate() # triggers the authentication process"
   ]
  },
  {
   "cell_type": "markdown",
   "metadata": {},
   "source": [
    "This should launch a browser window where you can login with your Google account to the Google Earth Engine Authenticator. Following the prompts will generate a code, which you’ll then need to copy and paste into the VS Code command palette (at the top of the IDE). This will be saved as an authentication token so you won’t need to go through this process again until the next time you start a new session. The browser-based authentication steps will look something like this:\n",
    "\n",
    "- **Notebook Authenticator:** choose an active Google account and Cloud Project (you may have to create one if this is your first time authenticating) and click “Generate Token”  \n",
    "- **Choose an account:** if prompted, select the same Google account as above  \n",
    "- **Google hasn’t verified this app:** You may be temped to click the blue “Back to saftey” button, but don’t! Click “Continue”  \n",
    "- **Select what Earth Engine Notebook Client can access:** click both check boxes, then “Continue”  \n",
    "- **Copy your authorization code** to your clipboard to paste into the VS Code command palette"
   ]
  },
  {
   "cell_type": "markdown",
   "metadata": {},
   "source": [
    "4. Lastly, initialize. This verifies that valid credentials have been created and populates the Python client library with methods that the backend server supports."
   ]
  },
  {
   "cell_type": "code",
   "execution_count": 3,
   "metadata": {},
   "outputs": [],
   "source": [
    "# intialize\n",
    "ee.Initialize() "
   ]
  },
  {
   "cell_type": "markdown",
   "metadata": {},
   "source": [
    "If successful, you're now ready to begin working with Google Earth Engine!"
   ]
  },
  {
   "cell_type": "markdown",
   "metadata": {},
   "source": [
    "### **Part ii.** Explore the ERA5 Daily Aggregates Data"
   ]
  },
  {
   "cell_type": "markdown",
   "metadata": {},
   "source": [
    "We’ll be using the ERA5 daily aggregates reanalysis dataset, produced by the [European Centre for Medium-Range Weather Forecasts](https://www.ecmwf.int/) (ECMWF), found [here](https://developers.google.com/earth-engine/datasets/catalog/ECMWF_ERA5_DAILY), which models atmospheric weather observations.\n",
    "\n",
    "Take a few moments to explore the metadata record for this dataset. You’ll notice that it includes a bunch of important information, including:\n",
    "\n",
    "- **Dataset Availability:** the date range\n",
    "- **Dataset Provider:** where the data come from\n",
    "- **Earth Engine Snippet:** a code snippet used for loading the dataset\n",
    "- **Description (tab):** get to know a bit about the data\n",
    "- **Bands (tab):** the variables present in the dataset; each band has its own name, data type, scale, mask and projection\n",
    "- **Image Properties:** metadata available for each image band\n",
    "- **Example Code:** a script to load and visualize ERA5 climate reanalysis parameters in Google Earth Engine (JavaScript)"
   ]
  },
  {
   "cell_type": "markdown",
   "metadata": {},
   "source": [
    "### **Part iii.** Visualize global precipitation using ERA5 Daily Aggregate data\n",
    "\n",
    "*Content for this section was adapted from Dr. Sam Stevenson’s [Visualizing global precipitation using Google Earth Engine](https://github.com/samanthastevenson/EDS220_Fall2021/blob/main/Week1_ERA5Maps_GEE.ipynb) lesson, given in her [EDS 220 course](https://samanthastevenson.github.io/EDS220_site/) in Fall 2021.*\n",
    "\n",
    "1. Create an interactive basemap\n",
    "\n",
    "- The default basemap is (you guessed it) Google Maps. Let's create an empty Google Map that you can manipulate just like you would in the typical Google Maps interface. Do this using the `Map` method from the `geemap` library. We’ll also center the map at a specified latitude and longitude (here, 40N, 100E), set a zoom level, and save our map as an object called `myMap`."
   ]
  },
  {
   "cell_type": "code",
   "execution_count": 4,
   "metadata": {},
   "outputs": [
    {
     "data": {
      "application/vnd.jupyter.widget-view+json": {
       "model_id": "02dd8986248a4a44b7f964134cb87e49",
       "version_major": 2,
       "version_minor": 0
      },
      "text/plain": [
       "Map(center=[60, -151], controls=(WidgetControl(options=['position', 'transparent_bg'], widget=HBox(children=(T…"
      ]
     },
     "metadata": {},
     "output_type": "display_data"
    }
   ],
   "source": [
    "# create a basemap called `myMap`\n",
    "myMap = geemap.Map(center = [60, -151], zoom = 4)\n",
    "myMap"
   ]
  },
  {
   "cell_type": "markdown",
   "metadata": {},
   "source": [
    "2. Load the ERA5 Image Collection from GEE\n",
    "\n",
    "- Next, we need to tell GEE what data we want to layer on top of our basemap. The `ImageCollection` method extracts a set of individual images that satisfies some criterion that you pass to GEE through the `ee` package. This is stored as an **ImageCollection** object which can be filtered and processed in various ways. We can pass the `ImageCollction` method agruments to tell GEE which data we want to retrieve. Below, we retrieve all daily ERA5 data."
   ]
  },
  {
   "cell_type": "code",
   "execution_count": 5,
   "metadata": {},
   "outputs": [],
   "source": [
    "# load ERA5 data and save as object called `weatherData`\n",
    "weatherData = ee.ImageCollection('ECMWF/ERA5/DAILY')"
   ]
  },
  {
   "cell_type": "markdown",
   "metadata": {},
   "source": [
    "3. Select an image to plot\n",
    "\n",
    "- To plot a map over our Google Maps basemap, we need an *Image* rather than an *ImageCollection*. ERA5 contains many different climate variables – explore which variables the dataset contains under the [Bands](https://developers.google.com/earth-engine/datasets/catalog/ECMWF_ERA5_DAILY#bands) tab. We’ll use the `select` method to choose the parameter(s) we’re interested in from our `weatherData` object. Let’s select the `total_precipitation` band."
   ]
  },
  {
   "cell_type": "code",
   "execution_count": 6,
   "metadata": {},
   "outputs": [],
   "source": [
    "# select desired bands (total_preciptation); save as object called `precip`\n",
    "precip = weatherData.select('total_precipitation')"
   ]
  },
  {
   "cell_type": "markdown",
   "metadata": {},
   "source": [
    "- We can look at our `precip` object metadata using the `print` method to see that it’s still an *ImageCollection*."
   ]
  },
  {
   "cell_type": "code",
   "execution_count": 7,
   "metadata": {},
   "outputs": [
    {
     "name": "stdout",
     "output_type": "stream",
     "text": [
      "ee.ImageCollection({\n",
      "  \"functionInvocationValue\": {\n",
      "    \"functionName\": \"Collection.map\",\n",
      "    \"arguments\": {\n",
      "      \"baseAlgorithm\": {\n",
      "        \"functionDefinitionValue\": {\n",
      "          \"argumentNames\": [\n",
      "            \"_MAPPING_VAR_0_0\"\n",
      "          ],\n",
      "          \"body\": {\n",
      "            \"functionInvocationValue\": {\n",
      "              \"functionName\": \"Image.select\",\n",
      "              \"arguments\": {\n",
      "                \"bandSelectors\": {\n",
      "                  \"constantValue\": [\n",
      "                    \"total_precipitation\"\n",
      "                  ]\n",
      "                },\n",
      "                \"input\": {\n",
      "                  \"argumentReference\": \"_MAPPING_VAR_0_0\"\n",
      "                }\n",
      "              }\n",
      "            }\n",
      "          }\n",
      "        }\n",
      "      },\n",
      "      \"collection\": {\n",
      "        \"functionInvocationValue\": {\n",
      "          \"functionName\": \"ImageCollection.load\",\n",
      "          \"arguments\": {\n",
      "            \"id\": {\n",
      "              \"constantValue\": \"ECMWF/ERA5/DAILY\"\n",
      "            }\n",
      "          }\n",
      "        }\n",
      "      }\n",
      "    }\n",
      "  }\n",
      "})\n"
     ]
    }
   ],
   "source": [
    "# print `precip`\n",
    "print(precip)"
   ]
  },
  {
   "cell_type": "markdown",
   "metadata": {},
   "source": [
    "- Let’s say that we want to look at data for a particular time of interest – e.g. January 1, 2019 - December 31, 2019. We can apply the `filterDate` method to our selected `total_precipitation` parameter to filter for data from our chosen date range. We can also apply the `mean` method, which takes whatever precedes it and calculates the average. "
   ]
  },
  {
   "cell_type": "code",
   "execution_count": 8,
   "metadata": {},
   "outputs": [],
   "source": [
    "# initial date of interest (inclusive)\n",
    "i_date = '2019-01-01'\n",
    "\n",
    "# final data of interest (exclusive)\n",
    "f_date = '2020-01-01'\n",
    "\n",
    "# select apporpriate bands (total_preciptation), dates, and calculate mean precipitation across that date range\n",
    "precip = weatherData.select('total_precipitation').filterDate(i_date,f_date).sum()"
   ]
  },
  {
   "cell_type": "markdown",
   "metadata": {},
   "source": [
    "- Use the print method again to check out your new `precip` object – notice that it’s now an `ee.Image` (rather than `ee.ImageCollection`) and the start and end date values are as we specified."
   ]
  },
  {
   "cell_type": "code",
   "execution_count": 9,
   "metadata": {},
   "outputs": [
    {
     "name": "stdout",
     "output_type": "stream",
     "text": [
      "ee.Image({\n",
      "  \"functionInvocationValue\": {\n",
      "    \"functionName\": \"reduce.sum\",\n",
      "    \"arguments\": {\n",
      "      \"collection\": {\n",
      "        \"functionInvocationValue\": {\n",
      "          \"functionName\": \"Collection.filter\",\n",
      "          \"arguments\": {\n",
      "            \"collection\": {\n",
      "              \"functionInvocationValue\": {\n",
      "                \"functionName\": \"Collection.map\",\n",
      "                \"arguments\": {\n",
      "                  \"baseAlgorithm\": {\n",
      "                    \"functionDefinitionValue\": {\n",
      "                      \"argumentNames\": [\n",
      "                        \"_MAPPING_VAR_0_0\"\n",
      "                      ],\n",
      "                      \"body\": {\n",
      "                        \"functionInvocationValue\": {\n",
      "                          \"functionName\": \"Image.select\",\n",
      "                          \"arguments\": {\n",
      "                            \"bandSelectors\": {\n",
      "                              \"constantValue\": [\n",
      "                                \"total_precipitation\"\n",
      "                              ]\n",
      "                            },\n",
      "                            \"input\": {\n",
      "                              \"argumentReference\": \"_MAPPING_VAR_0_0\"\n",
      "                            }\n",
      "                          }\n",
      "                        }\n",
      "                      }\n",
      "                    }\n",
      "                  },\n",
      "                  \"collection\": {\n",
      "                    \"functionInvocationValue\": {\n",
      "                      \"functionName\": \"ImageCollection.load\",\n",
      "                      \"arguments\": {\n",
      "                        \"id\": {\n",
      "                          \"constantValue\": \"ECMWF/ERA5/DAILY\"\n",
      "                        }\n",
      "                      }\n",
      "                    }\n",
      "                  }\n",
      "                }\n",
      "              }\n",
      "            },\n",
      "            \"filter\": {\n",
      "              \"functionInvocationValue\": {\n",
      "                \"functionName\": \"Filter.dateRangeContains\",\n",
      "                \"arguments\": {\n",
      "                  \"leftValue\": {\n",
      "                    \"functionInvocationValue\": {\n",
      "                      \"functionName\": \"DateRange\",\n",
      "                      \"arguments\": {\n",
      "                        \"end\": {\n",
      "                          \"constantValue\": \"2020-01-01\"\n",
      "                        },\n",
      "                        \"start\": {\n",
      "                          \"constantValue\": \"2019-01-01\"\n",
      "                        }\n",
      "                      }\n",
      "                    }\n",
      "                  },\n",
      "                  \"rightField\": {\n",
      "                    \"constantValue\": \"system:time_start\"\n",
      "                  }\n",
      "                }\n",
      "              }\n",
      "            }\n",
      "          }\n",
      "        }\n",
      "      }\n",
      "    }\n",
      "  }\n",
      "})\n"
     ]
    }
   ],
   "source": [
    "# print `precip` again\n",
    "print(precip)"
   ]
  },
  {
   "cell_type": "markdown",
   "metadata": {},
   "source": [
    "4. Add the precipitation Image to the basemap\n",
    "\n",
    "- We can first use the `setCenter` method to tell the map where to center itself (here, we'll center it over Cook Inlet, Alaska). It takes the longitude and latitude as the first two arguments, followed by the zoom level."
   ]
  },
  {
   "cell_type": "code",
   "execution_count": 10,
   "metadata": {},
   "outputs": [
    {
     "data": {
      "application/vnd.jupyter.widget-view+json": {
       "model_id": "37a12d7ac9f44781811e4fc7ac081410",
       "version_major": 2,
       "version_minor": 0
      },
      "text/plain": [
       "Map(center=[60, -151], controls=(WidgetControl(options=['position', 'transparent_bg'], widget=HBox(children=(T…"
      ]
     },
     "metadata": {},
     "output_type": "display_data"
    }
   ],
   "source": [
    "# center map over Cook Inlet, AK (lat = 60, lon = -151)\n",
    "myMap = geemap.Map(center = [60, -151], zoom = 4)\n",
    "myMap"
   ]
  },
  {
   "cell_type": "markdown",
   "metadata": {},
   "source": [
    "- Next, set a color palette to use when plotting the data layer. The following is a palette specified for ERA5 precipitation data (scroll down to the example code, available on the [landing page for the ERA5 metadata](https://developers.google.com/earth-engine/datasets/catalog/ECMWF_ERA5_DAILY) in the Earth Engine Data Catelog). We can adjust the max value to change the range of pixel values to which the palette should be applied – this will make our colors stand out a bit more when we layer our precipitation data on our basemap, below."
   ]
  },
  {
   "cell_type": "code",
   "execution_count": 11,
   "metadata": {},
   "outputs": [],
   "source": [
    "# create a color palette for our precipitation map; save it as an object called `precip_palette`\n",
    "precip_palette = {\n",
    "    'min':0,\n",
    "    'max':5,\n",
    "    'palette': ['#FFFFFF', '#00FFFF', '#0080FF', '#DA00FF', '#FFA400', '#FF0000']\n",
    "}"
   ]
  },
  {
   "cell_type": "markdown",
   "metadata": {},
   "source": [
    "- Finally, plot our filtered data, `precip`, on top of our basemap using the `addLayer` method. We’ll also pass it our visualization parameters (colors and ranges stored in `precip_palette`, the name of the data field, `total precipitation`, and opacity (so that we can see the basemap underneath)."
   ]
  },
  {
   "cell_type": "code",
   "execution_count": 34,
   "metadata": {},
   "outputs": [
    {
     "data": {
      "application/vnd.jupyter.widget-view+json": {
       "model_id": "752f40ed26404de483c03e3cc776aa75",
       "version_major": 2,
       "version_minor": 0
      },
      "text/plain": [
       "Map(bottom=2514.0, center=[63.4308891222331, -131.90205989926682], controls=(WidgetControl(options=['position'…"
      ]
     },
     "metadata": {},
     "output_type": "display_data"
    }
   ],
   "source": [
    "# add precipitation data to our basemap centered over Cook Inlet, AK\n",
    "myMap.addLayer(precip,precip_palette, \"total precipitation\", opacity = .7)\n",
    "myMap"
   ]
  },
  {
   "cell_type": "code",
   "execution_count": 13,
   "metadata": {},
   "outputs": [],
   "source": [
    "# initialize data frame of points\n",
    "data = [['anc', 61.2, -150.1 ], ['fai', 64.8, -147.6], ['jun', 58.3, -134.4]]\n",
    "  \n",
    "# Create the pandas DataFrame\n",
    "df = pd.DataFrame(data, columns=['loc', 'lat', 'lon'])"
   ]
  },
  {
   "cell_type": "code",
   "execution_count": 14,
   "metadata": {},
   "outputs": [],
   "source": [
    "# convert data frame to list of GEE features\n",
    "features=[]\n",
    "\n",
    "#iterating through the rows and creating a feature list from the point coordinates\n",
    "for index, row in df.iterrows():\n",
    "    p_geom = ee.Geometry.Point([row['lon'], row['lat']]) #pulling the lat and lon for each row\n",
    "    # construct attributes for each row\n",
    "    p_props = dict(row) #dictionary of each row\n",
    "    p_feature = ee.Feature(p_geom, p_props) #initializing an eefeature\n",
    "    features.append(p_feature) #adding each feature to the list"
   ]
  },
  {
   "cell_type": "code",
   "execution_count": 15,
   "metadata": {},
   "outputs": [],
   "source": [
    "#changing the features list to something ee can use, a feature collection\n",
    "ee_fc = ee.FeatureCollection(features)"
   ]
  },
  {
   "cell_type": "code",
   "execution_count": 16,
   "metadata": {},
   "outputs": [],
   "source": [
    "#sampling the values for these points, scale is saying at a 30 meter resolution?, the most zoomed in\n",
    "res = precip.sampleRegions(collection = ee_fc, scale = 30)"
   ]
  },
  {
   "cell_type": "code",
   "execution_count": 17,
   "metadata": {},
   "outputs": [
    {
     "data": {
      "text/html": [
       "<div>\n",
       "<style scoped>\n",
       "    .dataframe tbody tr th:only-of-type {\n",
       "        vertical-align: middle;\n",
       "    }\n",
       "\n",
       "    .dataframe tbody tr th {\n",
       "        vertical-align: top;\n",
       "    }\n",
       "\n",
       "    .dataframe thead th {\n",
       "        text-align: right;\n",
       "    }\n",
       "</style>\n",
       "<table border=\"1\" class=\"dataframe\">\n",
       "  <thead>\n",
       "    <tr style=\"text-align: right;\">\n",
       "      <th></th>\n",
       "      <th>loc</th>\n",
       "      <th>lon</th>\n",
       "      <th>lat</th>\n",
       "      <th>total_precipitation</th>\n",
       "    </tr>\n",
       "  </thead>\n",
       "  <tbody>\n",
       "    <tr>\n",
       "      <th>0</th>\n",
       "      <td>anc</td>\n",
       "      <td>-150.1</td>\n",
       "      <td>61.2</td>\n",
       "      <td>0.790397</td>\n",
       "    </tr>\n",
       "    <tr>\n",
       "      <th>1</th>\n",
       "      <td>fai</td>\n",
       "      <td>-147.6</td>\n",
       "      <td>64.8</td>\n",
       "      <td>0.566299</td>\n",
       "    </tr>\n",
       "    <tr>\n",
       "      <th>2</th>\n",
       "      <td>jun</td>\n",
       "      <td>-134.4</td>\n",
       "      <td>58.3</td>\n",
       "      <td>2.779951</td>\n",
       "    </tr>\n",
       "  </tbody>\n",
       "</table>\n",
       "</div>"
      ],
      "text/plain": [
       "   loc    lon   lat  total_precipitation\n",
       "0  anc -150.1  61.2             0.790397\n",
       "1  fai -147.6  64.8             0.566299\n",
       "2  jun -134.4  58.3             2.779951"
      ]
     },
     "execution_count": 17,
     "metadata": {},
     "output_type": "execute_result"
    }
   ],
   "source": [
    "#making a df of the results\n",
    "res_df = geemap.ee_to_pandas(res)\n",
    "res_df"
   ]
  },
  {
   "cell_type": "code",
   "execution_count": 18,
   "metadata": {},
   "outputs": [],
   "source": [
    "#loading burn data from ee data\n",
    "burnData = ee.ImageCollection(\"MODIS/061/MCD64A1\")"
   ]
  },
  {
   "cell_type": "code",
   "execution_count": 29,
   "metadata": {},
   "outputs": [],
   "source": [
    "myMap3 = geemap.Map(center = [66,-145], zoom = 7)"
   ]
  },
  {
   "cell_type": "code",
   "execution_count": 35,
   "metadata": {},
   "outputs": [
    {
     "data": {
      "application/vnd.jupyter.widget-view+json": {
       "model_id": "752f40ed26404de483c03e3cc776aa75",
       "version_major": 2,
       "version_minor": 0
      },
      "text/plain": [
       "Map(bottom=2514.0, center=[63.4308891222331, -131.90205989926682], controls=(WidgetControl(options=['position'…"
      ]
     },
     "metadata": {},
     "output_type": "display_data"
    }
   ],
   "source": [
    "burn = burnData.select('BurnDate')\n",
    "\n",
    "burn_palette = {\n",
    "  \"min\": 30.0,\n",
    "  \"max\": 341.0,\n",
    "  \"palette\": ['4e0400', '951003', 'c61503', 'ff1901']}\n",
    "\n",
    "myMap.addLayer(burn, burn_palette, \"Burn\", opacity = .7)\n",
    "myMap"
   ]
  },
  {
   "cell_type": "code",
   "execution_count": 21,
   "metadata": {},
   "outputs": [
    {
     "data": {
      "application/vnd.jupyter.widget-view+json": {
       "model_id": "12ae10ed7ea64dd6934a66b8d7b7198c",
       "version_major": 2,
       "version_minor": 0
      },
      "text/plain": [
       "Map(center=[66, -145], controls=(WidgetControl(options=['position', 'transparent_bg'], widget=HBox(children=(T…"
      ]
     },
     "metadata": {},
     "output_type": "display_data"
    }
   ],
   "source": [
    "burn = ee.ImageCollection(\"ESA/CCI/FireCCI/5_1\")\n",
    "burn_2020 = burn.select('BurnDate').mean()\n",
    "fire_pal = {\n",
    "  'min': 1,\n",
    "  'max': 366,\n",
    "  'palette': [\n",
    "    'ff0000', 'fd4100', 'fb8200', 'f9c400', 'f2ff00', 'b6ff05',\n",
    "    '7aff0a', '3eff0f', '02ff15', '00ff55', '00ff99', '00ffdd',\n",
    "    '00ddff', '0098ff', '0052ff', '0210ff', '3a0dfb', '7209f6',\n",
    "    'a905f1', 'e102ed', 'ff00cc', 'ff0089', 'ff0047', 'ff0004'\n",
    "  ]\n",
    "}\n",
    "\n",
    "\n",
    "myMap2 = geemap.Map(center = [66,-145], zoom = 7)\n",
    "\n",
    "myMap2.addLayer(burn_2020, fire_pal, \"Burned area with date burned\", opacity = 1)\n",
    "legend_dict = {\n",
    "    \"January 1\" : '#ff0000',\n",
    "    \"March 1\" : '#7aff0a',\n",
    "    \"June 1\" : '#00ddff',\n",
    "    \"Sept 1\" : '#a905f1'\n",
    "}\n",
    "\n",
    "myMap2.add_legend(legend_title=\"Burn Day\", legend_dict=legend_dict)\n",
    "myMap2\n"
   ]
  },
  {
   "cell_type": "code",
   "execution_count": 31,
   "metadata": {},
   "outputs": [
    {
     "ename": "TypeError",
     "evalue": "add_legend() got multiple values for argument 'legend_dict'",
     "output_type": "error",
     "traceback": [
      "\u001b[0;31m---------------------------------------------------------------------------\u001b[0m",
      "\u001b[0;31mTypeError\u001b[0m                                 Traceback (most recent call last)",
      "\u001b[1;32m/home/sainsbury/scalable-computing-examples/15-gee/exercise1.ipynb Cell 40\u001b[0m in \u001b[0;36m1\n\u001b[0;32m----> <a href='vscode-notebook-cell://ssh-remote%2Bincluded-crab.nceas.ucsb.edu/home/sainsbury/scalable-computing-examples/15-gee/exercise1.ipynb#X53sdnNjb2RlLXJlbW90ZQ%3D%3D?line=0'>1</a>\u001b[0m myMap2\u001b[39m.\u001b[39;49madd_legend(burn, \u001b[39m\"\u001b[39;49m\u001b[39mBurn\u001b[39;49m\u001b[39m\"\u001b[39;49m, opacity \u001b[39m=\u001b[39;49m \u001b[39m.7\u001b[39;49m, legend_dict\u001b[39m=\u001b[39;49mlegend_dict)\n\u001b[1;32m      <a href='vscode-notebook-cell://ssh-remote%2Bincluded-crab.nceas.ucsb.edu/home/sainsbury/scalable-computing-examples/15-gee/exercise1.ipynb#X53sdnNjb2RlLXJlbW90ZQ%3D%3D?line=1'>2</a>\u001b[0m myMap2\n",
      "\u001b[0;31mTypeError\u001b[0m: add_legend() got multiple values for argument 'legend_dict'"
     ]
    }
   ],
   "source": [
    "\n"
   ]
  },
  {
   "cell_type": "code",
   "execution_count": null,
   "metadata": {},
   "outputs": [],
   "source": []
  }
 ],
 "metadata": {
  "kernelspec": {
   "display_name": "Python 3.10.4 64-bit",
   "language": "python",
   "name": "python3"
  },
  "language_info": {
   "codemirror_mode": {
    "name": "ipython",
    "version": 3
   },
   "file_extension": ".py",
   "mimetype": "text/x-python",
   "name": "python",
   "nbconvert_exporter": "python",
   "pygments_lexer": "ipython3",
   "version": "3.9.16"
  },
  "orig_nbformat": 4,
  "vscode": {
   "interpreter": {
    "hash": "31f2aee4e71d21fbe5cf8b01ff0e069b9275f58929596ceb00d14d90e3e16cd6"
   }
  }
 },
 "nbformat": 4,
 "nbformat_minor": 2
}
